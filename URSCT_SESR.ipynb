{
  "nbformat": 4,
  "nbformat_minor": 0,
  "metadata": {
    "colab": {
      "provenance": [],
      "private_outputs": true,
      "authorship_tag": "ABX9TyPW6yV5WIgSe0n2N0yZ6TDb",
      "include_colab_link": true
    },
    "kernelspec": {
      "name": "python3",
      "display_name": "Python 3"
    },
    "language_info": {
      "name": "python"
    },
    "accelerator": "GPU",
    "gpuClass": "standard"
  },
  "cells": [
    {
      "cell_type": "markdown",
      "metadata": {
        "id": "view-in-github",
        "colab_type": "text"
      },
      "source": [
        "<a href=\"https://colab.research.google.com/github/TingdiRen/URSCT-SESR/blob/master/URSCT_SESR.ipynb\" target=\"_parent\"><img src=\"https://colab.research.google.com/assets/colab-badge.svg\" alt=\"Open In Colab\"/></a>"
      ]
    },
    {
      "cell_type": "markdown",
      "source": [
        "# 1. Preparations\n",
        "Before start, make sure that you choose\n",
        "* Runtime Type = Python 3\n",
        "* Hardware Accelerator = GPU\n",
        "* Broswer != Firefox (cannot upload images in step 2)\n",
        "\n",
        "in the **Runtime** menu -> **Change runtime type**\n",
        "\n",
        "Then, we clone the repository, set up the envrironment, and download the pre-trained model."
      ],
      "metadata": {
        "id": "aEr42qBzPu7o"
      }
    },
    {
      "cell_type": "code",
      "source": [
        "# Clone URCST-SESR\n",
        "!git clone https://github.com/TingdiRen/URSCT-SESR.git\n",
        "%cd URSCT-SESR\n",
        "!pip install -r requirements.txt\n",
        "\n",
        "# Download the pre-trained models\n",
        "!wget https://github.com/TingdiRen/URSCT-SESR/releases/download/V1/LSUI.pth -O ./exps/quickstart_Enh/models/model_bestSSIM.pth"
      ],
      "metadata": {
        "id": "Wx7qj6dHPxHv"
      },
      "execution_count": null,
      "outputs": []
    },
    {
      "cell_type": "markdown",
      "source": [
        "# 2. Upload Images\n",
        "\n",
        "Upload the images to be processed by URSCT-SESR"
      ],
      "metadata": {
        "id": "QDUNhvSrhlwa"
      }
    },
    {
      "cell_type": "code",
      "source": [
        "import os\n",
        "import glob\n",
        "from google.colab import files\n",
        "import shutil\n",
        "\n",
        "# to be compatible with BSRGAN\n",
        "\n",
        "!rm -r dataset/demo_data_Enh/test_data/input\n",
        "!rm -r dataset/demo_data_Enh/test_data/target\n",
        "upload_folder = 'dataset/demo_data_Enh/test_data/input'\n",
        "result_folder = 'exps/quickstart_Enh/test_results'\n",
        "\n",
        "if os.path.isdir(upload_folder):\n",
        "    shutil.rmtree(upload_folder)\n",
        "if os.path.isdir(result_folder):\n",
        "    shutil.rmtree(result_folder)\n",
        "os.mkdir(upload_folder)\n",
        "os.mkdir(result_folder)\n",
        "\n",
        "# upload images\n",
        "uploaded = files.upload()\n",
        "for filename in uploaded.keys():\n",
        "  dst_path = os.path.join(upload_folder, filename)\n",
        "  print(f'move {filename} to {dst_path}')\n",
        "  shutil.move(filename, dst_path)"
      ],
      "metadata": {
        "id": "lwY-4r3hRjGn"
      },
      "execution_count": null,
      "outputs": []
    },
    {
      "cell_type": "markdown",
      "source": [
        "# 3. Inference"
      ],
      "metadata": {
        "id": "LO7kwj8CiDbq"
      }
    },
    {
      "cell_type": "code",
      "source": [
        "import sys, os\n",
        "%cd scripts\n",
        "sys.path.append(os.path.abspath(\"..\"))\n",
        "%run Enh_eval.py --mode infer"
      ],
      "metadata": {
        "id": "X8V4FcP_klyf"
      },
      "execution_count": null,
      "outputs": []
    },
    {
      "cell_type": "markdown",
      "source": [
        "# 4. Visualization"
      ],
      "metadata": {
        "id": "PmhfWHi1r2Zv"
      }
    },
    {
      "cell_type": "code",
      "source": [
        "from PIL import Image\n",
        "import matplotlib.pyplot as plt\n",
        "%cd /content/URSCT-SESR\n",
        "\n",
        "file = os.listdir(result_folder)\n",
        "img = Image.open(os.path.join(result_folder, file[0]))\n",
        "\n",
        "plt.imshow(img)\n",
        "# Raw, Ours' Results"
      ],
      "metadata": {
        "id": "aN_uI1Qnr3no"
      },
      "execution_count": null,
      "outputs": []
    }
  ]
}