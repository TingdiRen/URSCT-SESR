{
  "nbformat": 4,
  "nbformat_minor": 0,
  "metadata": {
    "colab": {
      "provenance": [],
      "authorship_tag": "ABX9TyO+puIJZZwS1YdIRZVpKimb",
      "include_colab_link": true
    },
    "kernelspec": {
      "name": "python3",
      "display_name": "Python 3"
    },
    "language_info": {
      "name": "python"
    }
  },
  "cells": [
    {
      "cell_type": "markdown",
      "metadata": {
        "id": "view-in-github",
        "colab_type": "text"
      },
      "source": [
        "<a href=\"https://colab.research.google.com/github/TingdiRen/URSCT-SESR/blob/master/URSCT_SESR.ipynb\" target=\"_parent\"><img src=\"https://colab.research.google.com/assets/colab-badge.svg\" alt=\"Open In Colab\"/></a>"
      ]
    },
    {
      "cell_type": "markdown",
      "source": [
        "# 1. Preparations\n",
        "Before start, make sure that you choose\n",
        "* Runtime Type = Python 3\n",
        "* Hardware Accelerator = GPU\n",
        "* Broswer != Firefox (cannot upload images in step 2)\n",
        "\n",
        "in the **Runtime** menu -> **Change runtime type**\n",
        "\n",
        "Then, we clone the repository, set up the envrironment, and download the pre-trained model."
      ],
      "metadata": {
        "id": "aEr42qBzPu7o"
      }
    },
    {
      "cell_type": "code",
      "source": [
        "# Clone URCST-SESR\n",
        "!git clone https://github.com/TingdiRen/URSCT-SESR.git\n",
        "%cd URSCT-SESR\n",
        "# Set up the environment\n",
        "# !pip install basicsr\n",
        "# !pip install facexlib\n",
        "# !pip install gfpgan\n",
        "# !pip install -r requirements.txt\n",
        "# !python setup.py develop\n",
        "\n",
        "# Download the pre-trained models\n",
        "!wget https://github.com/TingdiRen/URSCT-SESR/releases/download/V1/LSUI.pth -P exps/quickstart_Enh -O model_bestSSIM.pth\n",
        "# !wget https://github.com/xinntao/Real-ESRGAN/releases/download/v0.1.0/RealESRGAN_x4plus.pth -P experiments/pretrained_models\n",
        "# !wget https://github.com/JingyunLiang/SwinIR/releases/download/v0.0/003_realSR_BSRGAN_DFO_s64w8_SwinIR-M_x4_GAN.pth -P experiments/pretrained_models\n",
        "# !wget https://github.com/JingyunLiang/SwinIR/releases/download/v0.0/003_realSR_BSRGAN_DFOWMFC_s64w8_SwinIR-L_x4_GAN.pth -P experiments/pretrained_models"
      ],
      "metadata": {
        "colab": {
          "base_uri": "https://localhost:8080/"
        },
        "id": "Wx7qj6dHPxHv",
        "outputId": "9b28f183-2ab7-4624-9751-c890f6d0a79f"
      },
      "execution_count": null,
      "outputs": [
        {
          "output_type": "stream",
          "name": "stdout",
          "text": [
            "Cloning into 'URSCT-SESR'...\n",
            "remote: Enumerating objects: 100, done.\u001b[K\n",
            "remote: Counting objects: 100% (100/100), done.\u001b[K\n",
            "remote: Compressing objects: 100% (74/74), done.\u001b[K\n",
            "remote: Total 100 (delta 15), reused 96 (delta 11), pack-reused 0\u001b[K\n",
            "Receiving objects: 100% (100/100), 9.72 MiB | 32.63 MiB/s, done.\n",
            "Resolving deltas: 100% (15/15), done.\n",
            "/content/URSCT-SESR/URSCT-SESR\n"
          ]
        }
      ]
    },
    {
      "cell_type": "code",
      "source": [],
      "metadata": {
        "id": "lwY-4r3hRjGn"
      },
      "execution_count": null,
      "outputs": []
    }
  ]
}